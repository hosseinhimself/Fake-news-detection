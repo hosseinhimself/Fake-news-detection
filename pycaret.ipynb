{
 "cells": [
  {
   "cell_type": "code",
   "execution_count": 1,
   "id": "initial_id",
   "metadata": {
    "collapsed": true,
    "ExecuteTime": {
     "end_time": "2024-02-05T20:06:40.704406407Z",
     "start_time": "2024-02-05T20:06:34.677121265Z"
    }
   },
   "outputs": [],
   "source": [
    "import pandas as pd\n",
    "from pycaret.classification import *\n",
    "\n",
    "# Read data\n",
    "train = pd.read_csv('dataset/train.csv')\n",
    "test = pd.read_csv('dataset/test.csv')\n",
    "submit = pd.read_csv('dataset/submit.csv')\n",
    "\n",
    "# Merge test and submit\n",
    "test_df = pd.merge(test, submit, on='id', how='left')\n",
    "\n",
    "# Filling NaN values in specific columns\n",
    "train['title'].fillna('Untitled', inplace=True)\n",
    "train['author'].fillna('unknown', inplace=True)\n",
    "\n",
    "# Dropping rows with NaN values in the 'text' column\n",
    "train.dropna(subset=['text'], inplace=True)\n",
    "\n"
   ]
  },
  {
   "cell_type": "code",
   "execution_count": 2,
   "outputs": [],
   "source": [
    "# Combine text features\n",
    "train['combined'] = train['title'].astype(str) + ' ' + train['author'].astype(str) + ' ' + train['text'].astype(str)"
   ],
   "metadata": {
    "collapsed": false,
    "ExecuteTime": {
     "end_time": "2024-02-05T20:06:40.829859715Z",
     "start_time": "2024-02-05T20:06:40.827024795Z"
    }
   },
   "id": "8138d3cbf7f42afa"
  },
  {
   "cell_type": "code",
   "execution_count": 3,
   "outputs": [
    {
     "name": "stdout",
     "output_type": "stream",
     "text": [
      "\u001B[33mWARNING: Skipping /mnt/Hossein-HDD/Projects/Fake-news-detection/venv/lib/python3.11/site-packages/matplotlib-3.8.2.dist-info due to invalid metadata entry 'name'\u001B[0m\u001B[33m\r\n",
      "\u001B[0m\u001B[33mWARNING: Skipping /mnt/Hossein-HDD/Projects/Fake-news-detection/venv/lib/python3.11/site-packages/matplotlib-3.8.2.dist-info due to invalid metadata entry 'name'\u001B[0m\u001B[33m\r\n",
      "\u001B[0mRequirement already satisfied: mlflow in ./venv/lib/python3.11/site-packages (2.9.2)\r\n",
      "Requirement already satisfied: click<9,>=7.0 in ./venv/lib/python3.11/site-packages (from mlflow) (8.1.7)\r\n",
      "Requirement already satisfied: cloudpickle<4 in ./venv/lib/python3.11/site-packages (from mlflow) (3.0.0)\r\n",
      "Requirement already satisfied: databricks-cli<1,>=0.8.7 in ./venv/lib/python3.11/site-packages (from mlflow) (0.18.0)\r\n",
      "Requirement already satisfied: entrypoints<1 in ./venv/lib/python3.11/site-packages (from mlflow) (0.4)\r\n",
      "Requirement already satisfied: gitpython<4,>=2.1.0 in ./venv/lib/python3.11/site-packages (from mlflow) (3.1.41)\r\n",
      "Requirement already satisfied: pyyaml<7,>=5.1 in ./venv/lib/python3.11/site-packages (from mlflow) (6.0.1)\r\n",
      "Requirement already satisfied: protobuf<5,>=3.12.0 in ./venv/lib/python3.11/site-packages (from mlflow) (4.25.2)\r\n",
      "Requirement already satisfied: pytz<2024 in ./venv/lib/python3.11/site-packages (from mlflow) (2023.3.post1)\r\n",
      "Requirement already satisfied: requests<3,>=2.17.3 in ./venv/lib/python3.11/site-packages (from mlflow) (2.31.0)\r\n",
      "Requirement already satisfied: packaging<24 in ./venv/lib/python3.11/site-packages (from mlflow) (23.2)\r\n",
      "Requirement already satisfied: importlib-metadata!=4.7.0,<8,>=3.7.0 in ./venv/lib/python3.11/site-packages (from mlflow) (7.0.1)\r\n",
      "Requirement already satisfied: sqlparse<1,>=0.4.0 in ./venv/lib/python3.11/site-packages (from mlflow) (0.4.4)\r\n",
      "Requirement already satisfied: alembic!=1.10.0,<2 in ./venv/lib/python3.11/site-packages (from mlflow) (1.13.1)\r\n",
      "Requirement already satisfied: docker<7,>=4.0.0 in ./venv/lib/python3.11/site-packages (from mlflow) (6.1.3)\r\n",
      "Requirement already satisfied: Flask<4 in ./venv/lib/python3.11/site-packages (from mlflow) (3.0.1)\r\n",
      "Requirement already satisfied: numpy<2 in ./venv/lib/python3.11/site-packages (from mlflow) (1.25.2)\r\n",
      "Requirement already satisfied: scipy<2 in ./venv/lib/python3.11/site-packages (from mlflow) (1.10.1)\r\n",
      "Requirement already satisfied: pandas<3 in ./venv/lib/python3.11/site-packages (from mlflow) (1.5.3)\r\n",
      "Requirement already satisfied: querystring-parser<2 in ./venv/lib/python3.11/site-packages (from mlflow) (1.2.4)\r\n",
      "Requirement already satisfied: sqlalchemy<3,>=1.4.0 in ./venv/lib/python3.11/site-packages (from mlflow) (2.0.25)\r\n",
      "Requirement already satisfied: scikit-learn<2 in ./venv/lib/python3.11/site-packages (from mlflow) (1.2.2)\r\n",
      "Requirement already satisfied: pyarrow<15,>=4.0.0 in ./venv/lib/python3.11/site-packages (from mlflow) (14.0.2)\r\n",
      "Requirement already satisfied: markdown<4,>=3.3 in ./venv/lib/python3.11/site-packages (from mlflow) (3.5.2)\r\n",
      "Requirement already satisfied: matplotlib<4 in ./venv/lib/python3.11/site-packages (from mlflow) (3.6.0)\r\n",
      "Requirement already satisfied: gunicorn<22 in ./venv/lib/python3.11/site-packages (from mlflow) (21.2.0)\r\n",
      "Requirement already satisfied: Jinja2<4,>=2.11 in ./venv/lib/python3.11/site-packages (from mlflow) (3.1.3)\r\n",
      "Requirement already satisfied: Mako in ./venv/lib/python3.11/site-packages (from alembic!=1.10.0,<2->mlflow) (1.3.1)\r\n",
      "Requirement already satisfied: typing-extensions>=4 in ./venv/lib/python3.11/site-packages (from alembic!=1.10.0,<2->mlflow) (4.9.0)\r\n",
      "Requirement already satisfied: pyjwt>=1.7.0 in ./venv/lib/python3.11/site-packages (from databricks-cli<1,>=0.8.7->mlflow) (2.8.0)\r\n",
      "Requirement already satisfied: oauthlib>=3.1.0 in ./venv/lib/python3.11/site-packages (from databricks-cli<1,>=0.8.7->mlflow) (3.2.2)\r\n",
      "Requirement already satisfied: tabulate>=0.7.7 in ./venv/lib/python3.11/site-packages (from databricks-cli<1,>=0.8.7->mlflow) (0.9.0)\r\n",
      "Requirement already satisfied: six>=1.10.0 in ./venv/lib/python3.11/site-packages (from databricks-cli<1,>=0.8.7->mlflow) (1.16.0)\r\n",
      "Requirement already satisfied: urllib3<3,>=1.26.7 in ./venv/lib/python3.11/site-packages (from databricks-cli<1,>=0.8.7->mlflow) (2.1.0)\r\n",
      "Requirement already satisfied: websocket-client>=0.32.0 in ./venv/lib/python3.11/site-packages (from docker<7,>=4.0.0->mlflow) (1.7.0)\r\n",
      "Requirement already satisfied: Werkzeug>=3.0.0 in ./venv/lib/python3.11/site-packages (from Flask<4->mlflow) (3.0.1)\r\n",
      "Requirement already satisfied: itsdangerous>=2.1.2 in ./venv/lib/python3.11/site-packages (from Flask<4->mlflow) (2.1.2)\r\n",
      "Requirement already satisfied: blinker>=1.6.2 in ./venv/lib/python3.11/site-packages (from Flask<4->mlflow) (1.7.0)\r\n",
      "Requirement already satisfied: gitdb<5,>=4.0.1 in ./venv/lib/python3.11/site-packages (from gitpython<4,>=2.1.0->mlflow) (4.0.11)\r\n",
      "Requirement already satisfied: zipp>=0.5 in ./venv/lib/python3.11/site-packages (from importlib-metadata!=4.7.0,<8,>=3.7.0->mlflow) (3.17.0)\r\n",
      "Requirement already satisfied: MarkupSafe>=2.0 in ./venv/lib/python3.11/site-packages (from Jinja2<4,>=2.11->mlflow) (2.1.4)\r\n",
      "Requirement already satisfied: contourpy>=1.0.1 in ./venv/lib/python3.11/site-packages (from matplotlib<4->mlflow) (1.2.0)\r\n",
      "Requirement already satisfied: cycler>=0.10 in ./venv/lib/python3.11/site-packages (from matplotlib<4->mlflow) (0.12.1)\r\n",
      "Requirement already satisfied: fonttools>=4.22.0 in ./venv/lib/python3.11/site-packages (from matplotlib<4->mlflow) (4.47.2)\r\n",
      "Requirement already satisfied: kiwisolver>=1.0.1 in ./venv/lib/python3.11/site-packages (from matplotlib<4->mlflow) (1.4.5)\r\n",
      "Requirement already satisfied: pillow>=6.2.0 in ./venv/lib/python3.11/site-packages (from matplotlib<4->mlflow) (10.2.0)\r\n",
      "Requirement already satisfied: pyparsing>=2.2.1 in ./venv/lib/python3.11/site-packages (from matplotlib<4->mlflow) (3.1.1)\r\n",
      "Requirement already satisfied: python-dateutil>=2.7 in ./venv/lib/python3.11/site-packages (from matplotlib<4->mlflow) (2.8.2)\r\n",
      "Requirement already satisfied: charset-normalizer<4,>=2 in ./venv/lib/python3.11/site-packages (from requests<3,>=2.17.3->mlflow) (3.3.2)\r\n",
      "Requirement already satisfied: idna<4,>=2.5 in ./venv/lib/python3.11/site-packages (from requests<3,>=2.17.3->mlflow) (3.6)\r\n",
      "Requirement already satisfied: certifi>=2017.4.17 in ./venv/lib/python3.11/site-packages (from requests<3,>=2.17.3->mlflow) (2023.11.17)\r\n",
      "Requirement already satisfied: joblib>=1.1.1 in ./venv/lib/python3.11/site-packages (from scikit-learn<2->mlflow) (1.3.2)\r\n",
      "Requirement already satisfied: threadpoolctl>=2.0.0 in ./venv/lib/python3.11/site-packages (from scikit-learn<2->mlflow) (3.2.0)\r\n",
      "Requirement already satisfied: greenlet!=0.4.17 in ./venv/lib/python3.11/site-packages (from sqlalchemy<3,>=1.4.0->mlflow) (3.0.3)\r\n",
      "Requirement already satisfied: smmap<6,>=3.0.1 in ./venv/lib/python3.11/site-packages (from gitdb<5,>=4.0.1->gitpython<4,>=2.1.0->mlflow) (5.0.1)\r\n",
      "\u001B[33mWARNING: Skipping /mnt/Hossein-HDD/Projects/Fake-news-detection/venv/lib/python3.11/site-packages/matplotlib-3.8.2.dist-info due to invalid metadata entry 'name'\u001B[0m\u001B[33m\r\n",
      "\u001B[0m\u001B[33mWARNING: Skipping /mnt/Hossein-HDD/Projects/Fake-news-detection/venv/lib/python3.11/site-packages/matplotlib-3.8.2.dist-info due to invalid metadata entry 'name'\u001B[0m\u001B[33m\r\n",
      "\u001B[0m\u001B[33mWARNING: Skipping /mnt/Hossein-HDD/Projects/Fake-news-detection/venv/lib/python3.11/site-packages/matplotlib-3.8.2.dist-info due to invalid metadata entry 'name'\u001B[0m\u001B[33m\r\n",
      "\u001B[0m\u001B[33mWARNING: Skipping /mnt/Hossein-HDD/Projects/Fake-news-detection/venv/lib/python3.11/site-packages/matplotlib-3.8.2.dist-info due to invalid metadata entry 'name'\u001B[0m\u001B[33m\r\n",
      "\u001B[0m\r\n",
      "\u001B[1m[\u001B[0m\u001B[34;49mnotice\u001B[0m\u001B[1;39;49m]\u001B[0m\u001B[39;49m A new release of pip is available: \u001B[0m\u001B[31;49m23.2.1\u001B[0m\u001B[39;49m -> \u001B[0m\u001B[32;49m24.0\u001B[0m\r\n",
      "\u001B[1m[\u001B[0m\u001B[34;49mnotice\u001B[0m\u001B[1;39;49m]\u001B[0m\u001B[39;49m To update, run: \u001B[0m\u001B[32;49mpip install --upgrade pip\u001B[0m\r\n"
     ]
    },
    {
     "data": {
      "text/plain": "<IPython.core.display.HTML object>",
      "text/html": ""
     },
     "metadata": {},
     "output_type": "display_data"
    },
    {
     "name": "stderr",
     "output_type": "stream",
     "text": [
      "2024/02/05 23:37:04 INFO mlflow.tracking.fluent: Experiment with name 'rf_experiment' does not exist. Creating a new experiment.\n"
     ]
    },
    {
     "data": {
      "text/plain": "                                                                    \n                                                                    \nInitiated  . . . . . . . . . . . . . . . . . .              23:37:07\nStatus     . . . . . . . . . . . . . . . . . .  Loading Dependencies\nEstimator  . . . . . . . . . . . . . . . . . .     Compiling Library",
      "text/html": "<div>\n<style scoped>\n    .dataframe tbody tr th:only-of-type {\n        vertical-align: middle;\n    }\n\n    .dataframe tbody tr th {\n        vertical-align: top;\n    }\n\n    .dataframe thead th {\n        text-align: right;\n    }\n</style>\n<table border=\"1\" class=\"dataframe\">\n  <thead>\n    <tr style=\"text-align: right;\">\n      <th></th>\n      <th></th>\n      <th></th>\n    </tr>\n    <tr>\n      <th></th>\n      <th></th>\n      <th></th>\n    </tr>\n  </thead>\n  <tbody>\n    <tr>\n      <th>Initiated</th>\n      <td>. . . . . . . . . . . . . . . . . .</td>\n      <td>23:37:07</td>\n    </tr>\n    <tr>\n      <th>Status</th>\n      <td>. . . . . . . . . . . . . . . . . .</td>\n      <td>Loading Dependencies</td>\n    </tr>\n    <tr>\n      <th>Estimator</th>\n      <td>. . . . . . . . . . . . . . . . . .</td>\n      <td>Compiling Library</td>\n    </tr>\n  </tbody>\n</table>\n</div>"
     },
     "metadata": {},
     "output_type": "display_data"
    },
    {
     "data": {
      "text/plain": "<IPython.core.display.HTML object>",
      "text/html": ""
     },
     "metadata": {},
     "output_type": "display_data"
    },
    {
     "data": {
      "text/plain": "Processing:   0%|          | 0/65 [00:00<?, ?it/s]",
      "application/vnd.jupyter.widget-view+json": {
       "version_major": 2,
       "version_minor": 0,
       "model_id": "86cd4d1e9ee94c73ab51633e3802dac6"
      }
     },
     "metadata": {},
     "output_type": "display_data"
    },
    {
     "data": {
      "text/plain": "                                                                    \n                                                                    \nInitiated  . . . . . . . . . . . . . . . . . .              23:43:16\nStatus     . . . . . . . . . . . . . . . . . .  Loading Dependencies\nEstimator  . . . . . . . . . . . . . . . . . .     Compiling Library",
      "text/html": "<div>\n<style scoped>\n    .dataframe tbody tr th:only-of-type {\n        vertical-align: middle;\n    }\n\n    .dataframe tbody tr th {\n        vertical-align: top;\n    }\n\n    .dataframe thead th {\n        text-align: right;\n    }\n</style>\n<table border=\"1\" class=\"dataframe\">\n  <thead>\n    <tr style=\"text-align: right;\">\n      <th></th>\n      <th></th>\n      <th></th>\n    </tr>\n    <tr>\n      <th></th>\n      <th></th>\n      <th></th>\n    </tr>\n  </thead>\n  <tbody>\n    <tr>\n      <th>Initiated</th>\n      <td>. . . . . . . . . . . . . . . . . .</td>\n      <td>23:43:16</td>\n    </tr>\n    <tr>\n      <th>Status</th>\n      <td>. . . . . . . . . . . . . . . . . .</td>\n      <td>Loading Dependencies</td>\n    </tr>\n    <tr>\n      <th>Estimator</th>\n      <td>. . . . . . . . . . . . . . . . . .</td>\n      <td>Compiling Library</td>\n    </tr>\n  </tbody>\n</table>\n</div>"
     },
     "metadata": {},
     "output_type": "display_data"
    },
    {
     "data": {
      "text/plain": "<IPython.core.display.HTML object>",
      "text/html": ""
     },
     "metadata": {},
     "output_type": "display_data"
    },
    {
     "data": {
      "text/plain": "Processing:   0%|          | 0/4 [00:00<?, ?it/s]",
      "application/vnd.jupyter.widget-view+json": {
       "version_major": 2,
       "version_minor": 0,
       "model_id": "e41cad6dc79a434596dcffb4c5b7df1a"
      }
     },
     "metadata": {},
     "output_type": "display_data"
    },
    {
     "data": {
      "text/plain": "                                                                    \n                                                                    \nInitiated  . . . . . . . . . . . . . . . . . .              23:43:28\nStatus     . . . . . . . . . . . . . . . . . .  Loading Dependencies\nEstimator  . . . . . . . . . . . . . . . . . .     Compiling Library",
      "text/html": "<div>\n<style scoped>\n    .dataframe tbody tr th:only-of-type {\n        vertical-align: middle;\n    }\n\n    .dataframe tbody tr th {\n        vertical-align: top;\n    }\n\n    .dataframe thead th {\n        text-align: right;\n    }\n</style>\n<table border=\"1\" class=\"dataframe\">\n  <thead>\n    <tr style=\"text-align: right;\">\n      <th></th>\n      <th></th>\n      <th></th>\n    </tr>\n    <tr>\n      <th></th>\n      <th></th>\n      <th></th>\n    </tr>\n  </thead>\n  <tbody>\n    <tr>\n      <th>Initiated</th>\n      <td>. . . . . . . . . . . . . . . . . .</td>\n      <td>23:43:28</td>\n    </tr>\n    <tr>\n      <th>Status</th>\n      <td>. . . . . . . . . . . . . . . . . .</td>\n      <td>Loading Dependencies</td>\n    </tr>\n    <tr>\n      <th>Estimator</th>\n      <td>. . . . . . . . . . . . . . . . . .</td>\n      <td>Compiling Library</td>\n    </tr>\n  </tbody>\n</table>\n</div>"
     },
     "metadata": {},
     "output_type": "display_data"
    },
    {
     "data": {
      "text/plain": "<IPython.core.display.HTML object>",
      "text/html": ""
     },
     "metadata": {},
     "output_type": "display_data"
    },
    {
     "data": {
      "text/plain": "Processing:   0%|          | 0/7 [00:00<?, ?it/s]",
      "application/vnd.jupyter.widget-view+json": {
       "version_major": 2,
       "version_minor": 0,
       "model_id": "20c597e46c434589907d76341c9bff13"
      }
     },
     "metadata": {},
     "output_type": "display_data"
    },
    {
     "name": "stdout",
     "output_type": "stream",
     "text": [
      "Fitting 10 folds for each of 10 candidates, totalling 100 fits\n",
      "Original model was better than the tuned model, hence it will be returned. NOTE: The display metrics are for the tuned model (not the original one).\n"
     ]
    }
   ],
   "source": [
    "! pip install mlflow\n",
    "# Set up PyCaret\n",
    "clf1 = setup(data=train, target='label', session_id=42, log_experiment=True, experiment_name='rf_experiment')\n",
    "\n",
    "# Compare models and select the best\n",
    "best_model = compare_models()\n",
    "\n",
    "# Create and train Random Forest model\n",
    "rf = create_model('rf')\n",
    "\n",
    "# Tune the Random Forest model\n",
    "tuned_rf = tune_model(rf)"
   ],
   "metadata": {
    "collapsed": false,
    "ExecuteTime": {
     "end_time": "2024-02-05T20:15:02.416656549Z",
     "start_time": "2024-02-05T20:06:40.833267396Z"
    }
   },
   "id": "2f36bbecfdcc6463"
  },
  {
   "cell_type": "code",
   "execution_count": 4,
   "outputs": [
    {
     "data": {
      "text/plain": "interactive(children=(ToggleButtons(description='Plot Type:', icons=('',), options=(('Pipeline Plot', 'pipelin…",
      "application/vnd.jupyter.widget-view+json": {
       "version_major": 2,
       "version_minor": 0,
       "model_id": "3226255e5321446bb9c0cc1c547b003e"
      }
     },
     "metadata": {},
     "output_type": "display_data"
    },
    {
     "data": {
      "text/plain": "<IPython.core.display.HTML object>",
      "text/html": ""
     },
     "metadata": {},
     "output_type": "display_data"
    },
    {
     "data": {
      "text/plain": "<Figure size 800x550 with 1 Axes>",
      "image/png": "[encoded data removed]"
     },
     "metadata": {},
     "output_type": "display_data"
    },
    {
     "name": "stdout",
     "output_type": "stream",
     "text": [
      "Transformation Pipeline and Model Successfully Saved\n"
     ]
    },
    {
     "data": {
      "text/plain": "(Pipeline(memory=Memory(location=None),\n          steps=[('numerical_imputer',\n                  TransformerWrapper(exclude=None, include=['id'],\n                                     transformer=SimpleImputer(add_indicator=False,\n                                                               copy=True,\n                                                               fill_value=None,\n                                                               keep_empty_features=False,\n                                                               missing_values=nan,\n                                                               strategy='mean',\n                                                               verbose='deprecated'))),\n                 ('categorical_imputer',\n                  TransformerWrapper(exclude=None,\n                                     include=['title', 'author'...\n                  RandomForestClassifier(bootstrap=True, ccp_alpha=0.0,\n                                         class_weight=None, criterion='gini',\n                                         max_depth=None, max_features='sqrt',\n                                         max_leaf_nodes=None, max_samples=None,\n                                         min_impurity_decrease=0.0,\n                                         min_samples_leaf=1, min_samples_split=2,\n                                         min_weight_fraction_leaf=0.0,\n                                         n_estimators=100, n_jobs=-1,\n                                         oob_score=False, random_state=42,\n                                         verbose=0, warm_start=False))],\n          verbose=False),\n 'random_forest_model.pkl')"
     },
     "execution_count": 4,
     "metadata": {},
     "output_type": "execute_result"
    }
   ],
   "source": [
    "# Evaluate the tuned model\n",
    "evaluate_model(tuned_rf)\n",
    "\n",
    "# Plot confusion matrix\n",
    "plot_model(tuned_rf, plot='confusion_matrix')\n",
    "\n",
    "# Save the model\n",
    "save_model(tuned_rf, 'random_forest_model')"
   ],
   "metadata": {
    "collapsed": false,
    "ExecuteTime": {
     "end_time": "2024-02-05T20:15:10.662722887Z",
     "start_time": "2024-02-05T20:15:02.421221332Z"
    }
   },
   "id": "23cb3df849d38751"
  },
  {
   "cell_type": "code",
   "execution_count": 5,
   "outputs": [
    {
     "data": {
      "text/plain": "<IPython.core.display.HTML object>",
      "text/html": ""
     },
     "metadata": {},
     "output_type": "display_data"
    },
    {
     "ename": "KeyError",
     "evalue": "\"['combined'] not in index\"",
     "output_type": "error",
     "traceback": [
      "\u001B[0;31m---------------------------------------------------------------------------\u001B[0m",
      "\u001B[0;31mKeyError\u001B[0m                                  Traceback (most recent call last)",
      "Cell \u001B[0;32mIn[5], line 5\u001B[0m\n\u001B[1;32m      2\u001B[0m final_model \u001B[38;5;241m=\u001B[39m finalize_model(tuned_rf)\n\u001B[1;32m      4\u001B[0m \u001B[38;5;66;03m# Predictions on the test set\u001B[39;00m\n\u001B[0;32m----> 5\u001B[0m test_predictions \u001B[38;5;241m=\u001B[39m \u001B[43mpredict_model\u001B[49m\u001B[43m(\u001B[49m\u001B[43mtuned_rf\u001B[49m\u001B[43m,\u001B[49m\u001B[43m \u001B[49m\u001B[43mdata\u001B[49m\u001B[38;5;241;43m=\u001B[39;49m\u001B[43mtest\u001B[49m\u001B[43m)\u001B[49m\n\u001B[1;32m      7\u001B[0m \u001B[38;5;66;03m# Display the predictions\u001B[39;00m\n\u001B[1;32m      8\u001B[0m \u001B[38;5;28mprint\u001B[39m(test_predictions\u001B[38;5;241m.\u001B[39mhead())\n",
      "File \u001B[0;32m/mnt/Hossein-HDD/Projects/Fake-news-detection/venv/lib/python3.11/site-packages/pycaret/classification/functional.py:2166\u001B[0m, in \u001B[0;36mpredict_model\u001B[0;34m(estimator, data, probability_threshold, encoded_labels, raw_score, round, verbose)\u001B[0m\n\u001B[1;32m   2163\u001B[0m \u001B[38;5;28;01mif\u001B[39;00m experiment \u001B[38;5;129;01mis\u001B[39;00m \u001B[38;5;28;01mNone\u001B[39;00m:\n\u001B[1;32m   2164\u001B[0m     experiment \u001B[38;5;241m=\u001B[39m _EXPERIMENT_CLASS()\n\u001B[0;32m-> 2166\u001B[0m \u001B[38;5;28;01mreturn\u001B[39;00m \u001B[43mexperiment\u001B[49m\u001B[38;5;241;43m.\u001B[39;49m\u001B[43mpredict_model\u001B[49m\u001B[43m(\u001B[49m\n\u001B[1;32m   2167\u001B[0m \u001B[43m    \u001B[49m\u001B[43mestimator\u001B[49m\u001B[38;5;241;43m=\u001B[39;49m\u001B[43mestimator\u001B[49m\u001B[43m,\u001B[49m\n\u001B[1;32m   2168\u001B[0m \u001B[43m    \u001B[49m\u001B[43mdata\u001B[49m\u001B[38;5;241;43m=\u001B[39;49m\u001B[43mdata\u001B[49m\u001B[43m,\u001B[49m\n\u001B[1;32m   2169\u001B[0m \u001B[43m    \u001B[49m\u001B[43mprobability_threshold\u001B[49m\u001B[38;5;241;43m=\u001B[39;49m\u001B[43mprobability_threshold\u001B[49m\u001B[43m,\u001B[49m\n\u001B[1;32m   2170\u001B[0m \u001B[43m    \u001B[49m\u001B[43mencoded_labels\u001B[49m\u001B[38;5;241;43m=\u001B[39;49m\u001B[43mencoded_labels\u001B[49m\u001B[43m,\u001B[49m\n\u001B[1;32m   2171\u001B[0m \u001B[43m    \u001B[49m\u001B[43mraw_score\u001B[49m\u001B[38;5;241;43m=\u001B[39;49m\u001B[43mraw_score\u001B[49m\u001B[43m,\u001B[49m\n\u001B[1;32m   2172\u001B[0m \u001B[43m    \u001B[49m\u001B[38;5;28;43mround\u001B[39;49m\u001B[38;5;241;43m=\u001B[39;49m\u001B[38;5;28;43mround\u001B[39;49m\u001B[43m,\u001B[49m\n\u001B[1;32m   2173\u001B[0m \u001B[43m    \u001B[49m\u001B[43mverbose\u001B[49m\u001B[38;5;241;43m=\u001B[39;49m\u001B[43mverbose\u001B[49m\u001B[43m,\u001B[49m\n\u001B[1;32m   2174\u001B[0m \u001B[43m\u001B[49m\u001B[43m)\u001B[49m\n",
      "File \u001B[0;32m/mnt/Hossein-HDD/Projects/Fake-news-detection/venv/lib/python3.11/site-packages/pycaret/classification/oop.py:2813\u001B[0m, in \u001B[0;36mClassificationExperiment.predict_model\u001B[0;34m(self, estimator, data, probability_threshold, encoded_labels, raw_score, round, verbose)\u001B[0m\n\u001B[1;32m   2741\u001B[0m \u001B[38;5;28;01mdef\u001B[39;00m \u001B[38;5;21mpredict_model\u001B[39m(\n\u001B[1;32m   2742\u001B[0m     \u001B[38;5;28mself\u001B[39m,\n\u001B[1;32m   2743\u001B[0m     estimator,\n\u001B[0;32m   (...)\u001B[0m\n\u001B[1;32m   2749\u001B[0m     verbose: \u001B[38;5;28mbool\u001B[39m \u001B[38;5;241m=\u001B[39m \u001B[38;5;28;01mTrue\u001B[39;00m,\n\u001B[1;32m   2750\u001B[0m ) \u001B[38;5;241m-\u001B[39m\u001B[38;5;241m>\u001B[39m pd\u001B[38;5;241m.\u001B[39mDataFrame:\n\u001B[1;32m   2751\u001B[0m \u001B[38;5;250m    \u001B[39m\u001B[38;5;124;03m\"\"\"\u001B[39;00m\n\u001B[1;32m   2752\u001B[0m \u001B[38;5;124;03m    This function predicts ``Label`` and ``Score`` (probability of predicted\u001B[39;00m\n\u001B[1;32m   2753\u001B[0m \u001B[38;5;124;03m    class) using a trained model. When ``data`` is None, it predicts label and\u001B[39;00m\n\u001B[0;32m   (...)\u001B[0m\n\u001B[1;32m   2810\u001B[0m \n\u001B[1;32m   2811\u001B[0m \u001B[38;5;124;03m    \"\"\"\u001B[39;00m\n\u001B[0;32m-> 2813\u001B[0m     \u001B[38;5;28;01mreturn\u001B[39;00m \u001B[38;5;28;43msuper\u001B[39;49m\u001B[43m(\u001B[49m\u001B[43m)\u001B[49m\u001B[38;5;241;43m.\u001B[39;49m\u001B[43mpredict_model\u001B[49m\u001B[43m(\u001B[49m\n\u001B[1;32m   2814\u001B[0m \u001B[43m        \u001B[49m\u001B[43mestimator\u001B[49m\u001B[38;5;241;43m=\u001B[39;49m\u001B[43mestimator\u001B[49m\u001B[43m,\u001B[49m\n\u001B[1;32m   2815\u001B[0m \u001B[43m        \u001B[49m\u001B[43mdata\u001B[49m\u001B[38;5;241;43m=\u001B[39;49m\u001B[43mdata\u001B[49m\u001B[43m,\u001B[49m\n\u001B[1;32m   2816\u001B[0m \u001B[43m        \u001B[49m\u001B[43mprobability_threshold\u001B[49m\u001B[38;5;241;43m=\u001B[39;49m\u001B[43mprobability_threshold\u001B[49m\u001B[43m,\u001B[49m\n\u001B[1;32m   2817\u001B[0m \u001B[43m        \u001B[49m\u001B[43mencoded_labels\u001B[49m\u001B[38;5;241;43m=\u001B[39;49m\u001B[43mencoded_labels\u001B[49m\u001B[43m,\u001B[49m\n\u001B[1;32m   2818\u001B[0m \u001B[43m        \u001B[49m\u001B[43mraw_score\u001B[49m\u001B[38;5;241;43m=\u001B[39;49m\u001B[43mraw_score\u001B[49m\u001B[43m,\u001B[49m\n\u001B[1;32m   2819\u001B[0m \u001B[43m        \u001B[49m\u001B[38;5;28;43mround\u001B[39;49m\u001B[38;5;241;43m=\u001B[39;49m\u001B[38;5;28;43mround\u001B[39;49m\u001B[43m,\u001B[49m\n\u001B[1;32m   2820\u001B[0m \u001B[43m        \u001B[49m\u001B[43mverbose\u001B[49m\u001B[38;5;241;43m=\u001B[39;49m\u001B[43mverbose\u001B[49m\u001B[43m,\u001B[49m\n\u001B[1;32m   2821\u001B[0m \u001B[43m    \u001B[49m\u001B[43m)\u001B[49m\n",
      "File \u001B[0;32m/mnt/Hossein-HDD/Projects/Fake-news-detection/venv/lib/python3.11/site-packages/pycaret/internal/pycaret_experiment/supervised_experiment.py:4952\u001B[0m, in \u001B[0;36m_SupervisedExperiment.predict_model\u001B[0;34m(self, estimator, data, probability_threshold, encoded_labels, raw_score, round, verbose, ml_usecase, preprocess)\u001B[0m\n\u001B[1;32m   4950\u001B[0m X_test_untransformed \u001B[38;5;241m=\u001B[39m data\n\u001B[1;32m   4951\u001B[0m y_test_untransformed \u001B[38;5;241m=\u001B[39m target\n\u001B[0;32m-> 4952\u001B[0m data \u001B[38;5;241m=\u001B[39m \u001B[43mdata\u001B[49m\u001B[43m[\u001B[49m\u001B[43mX_columns\u001B[49m\u001B[43m]\u001B[49m  \u001B[38;5;66;03m# Ignore all columns but the originals\u001B[39;00m\n\u001B[1;32m   4953\u001B[0m \u001B[38;5;28;01mif\u001B[39;00m preprocess:\n\u001B[1;32m   4954\u001B[0m     X_test_ \u001B[38;5;241m=\u001B[39m pipeline\u001B[38;5;241m.\u001B[39mtransform(\n\u001B[1;32m   4955\u001B[0m         X\u001B[38;5;241m=\u001B[39mdata,\n\u001B[1;32m   4956\u001B[0m         y\u001B[38;5;241m=\u001B[39m(target \u001B[38;5;28;01mif\u001B[39;00m preprocess \u001B[38;5;241m!=\u001B[39m \u001B[38;5;124m\"\u001B[39m\u001B[38;5;124mfeatures\u001B[39m\u001B[38;5;124m\"\u001B[39m \u001B[38;5;28;01melse\u001B[39;00m \u001B[38;5;28;01mNone\u001B[39;00m),\n\u001B[1;32m   4957\u001B[0m     )\n",
      "File \u001B[0;32m/mnt/Hossein-HDD/Projects/Fake-news-detection/venv/lib/python3.11/site-packages/pandas/core/frame.py:3813\u001B[0m, in \u001B[0;36mDataFrame.__getitem__\u001B[0;34m(self, key)\u001B[0m\n\u001B[1;32m   3811\u001B[0m     \u001B[38;5;28;01mif\u001B[39;00m is_iterator(key):\n\u001B[1;32m   3812\u001B[0m         key \u001B[38;5;241m=\u001B[39m \u001B[38;5;28mlist\u001B[39m(key)\n\u001B[0;32m-> 3813\u001B[0m     indexer \u001B[38;5;241m=\u001B[39m \u001B[38;5;28;43mself\u001B[39;49m\u001B[38;5;241;43m.\u001B[39;49m\u001B[43mcolumns\u001B[49m\u001B[38;5;241;43m.\u001B[39;49m\u001B[43m_get_indexer_strict\u001B[49m\u001B[43m(\u001B[49m\u001B[43mkey\u001B[49m\u001B[43m,\u001B[49m\u001B[43m \u001B[49m\u001B[38;5;124;43m\"\u001B[39;49m\u001B[38;5;124;43mcolumns\u001B[39;49m\u001B[38;5;124;43m\"\u001B[39;49m\u001B[43m)\u001B[49m[\u001B[38;5;241m1\u001B[39m]\n\u001B[1;32m   3815\u001B[0m \u001B[38;5;66;03m# take() does not accept boolean indexers\u001B[39;00m\n\u001B[1;32m   3816\u001B[0m \u001B[38;5;28;01mif\u001B[39;00m \u001B[38;5;28mgetattr\u001B[39m(indexer, \u001B[38;5;124m\"\u001B[39m\u001B[38;5;124mdtype\u001B[39m\u001B[38;5;124m\"\u001B[39m, \u001B[38;5;28;01mNone\u001B[39;00m) \u001B[38;5;241m==\u001B[39m \u001B[38;5;28mbool\u001B[39m:\n",
      "File \u001B[0;32m/mnt/Hossein-HDD/Projects/Fake-news-detection/venv/lib/python3.11/site-packages/pandas/core/indexes/base.py:6070\u001B[0m, in \u001B[0;36mIndex._get_indexer_strict\u001B[0;34m(self, key, axis_name)\u001B[0m\n\u001B[1;32m   6067\u001B[0m \u001B[38;5;28;01melse\u001B[39;00m:\n\u001B[1;32m   6068\u001B[0m     keyarr, indexer, new_indexer \u001B[38;5;241m=\u001B[39m \u001B[38;5;28mself\u001B[39m\u001B[38;5;241m.\u001B[39m_reindex_non_unique(keyarr)\n\u001B[0;32m-> 6070\u001B[0m \u001B[38;5;28;43mself\u001B[39;49m\u001B[38;5;241;43m.\u001B[39;49m\u001B[43m_raise_if_missing\u001B[49m\u001B[43m(\u001B[49m\u001B[43mkeyarr\u001B[49m\u001B[43m,\u001B[49m\u001B[43m \u001B[49m\u001B[43mindexer\u001B[49m\u001B[43m,\u001B[49m\u001B[43m \u001B[49m\u001B[43maxis_name\u001B[49m\u001B[43m)\u001B[49m\n\u001B[1;32m   6072\u001B[0m keyarr \u001B[38;5;241m=\u001B[39m \u001B[38;5;28mself\u001B[39m\u001B[38;5;241m.\u001B[39mtake(indexer)\n\u001B[1;32m   6073\u001B[0m \u001B[38;5;28;01mif\u001B[39;00m \u001B[38;5;28misinstance\u001B[39m(key, Index):\n\u001B[1;32m   6074\u001B[0m     \u001B[38;5;66;03m# GH 42790 - Preserve name from an Index\u001B[39;00m\n",
      "File \u001B[0;32m/mnt/Hossein-HDD/Projects/Fake-news-detection/venv/lib/python3.11/site-packages/pandas/core/indexes/base.py:6133\u001B[0m, in \u001B[0;36mIndex._raise_if_missing\u001B[0;34m(self, key, indexer, axis_name)\u001B[0m\n\u001B[1;32m   6130\u001B[0m     \u001B[38;5;28;01mraise\u001B[39;00m \u001B[38;5;167;01mKeyError\u001B[39;00m(\u001B[38;5;124mf\u001B[39m\u001B[38;5;124m\"\u001B[39m\u001B[38;5;124mNone of [\u001B[39m\u001B[38;5;132;01m{\u001B[39;00mkey\u001B[38;5;132;01m}\u001B[39;00m\u001B[38;5;124m] are in the [\u001B[39m\u001B[38;5;132;01m{\u001B[39;00maxis_name\u001B[38;5;132;01m}\u001B[39;00m\u001B[38;5;124m]\u001B[39m\u001B[38;5;124m\"\u001B[39m)\n\u001B[1;32m   6132\u001B[0m not_found \u001B[38;5;241m=\u001B[39m \u001B[38;5;28mlist\u001B[39m(ensure_index(key)[missing_mask\u001B[38;5;241m.\u001B[39mnonzero()[\u001B[38;5;241m0\u001B[39m]]\u001B[38;5;241m.\u001B[39munique())\n\u001B[0;32m-> 6133\u001B[0m \u001B[38;5;28;01mraise\u001B[39;00m \u001B[38;5;167;01mKeyError\u001B[39;00m(\u001B[38;5;124mf\u001B[39m\u001B[38;5;124m\"\u001B[39m\u001B[38;5;132;01m{\u001B[39;00mnot_found\u001B[38;5;132;01m}\u001B[39;00m\u001B[38;5;124m not in index\u001B[39m\u001B[38;5;124m\"\u001B[39m)\n",
      "\u001B[0;31mKeyError\u001B[0m: \"['combined'] not in index\""
     ]
    }
   ],
   "source": [
    "# Finalize the model (optional)\n",
    "final_model = finalize_model(tuned_rf)\n",
    "\n",
    "# Predictions on the test set\n",
    "test_predictions = predict_model(tuned_rf, data=test)\n",
    "\n",
    "# Display the predictions\n",
    "print(test_predictions.head())"
   ],
   "metadata": {
    "collapsed": false,
    "ExecuteTime": {
     "end_time": "2024-02-05T20:16:44.392972165Z",
     "start_time": "2024-02-05T20:16:38.846484501Z"
    }
   },
   "id": "e11f290ffc07a724"
  },
  {
   "cell_type": "code",
   "execution_count": null,
   "outputs": [],
   "source": [],
   "metadata": {
    "collapsed": false
   },
   "id": "12774c1ca49f9e82"
  }
 ],
 "metadata": {
  "kernelspec": {
   "display_name": "Python 3",
   "language": "python",
   "name": "python3"
  },
  "language_info": {
   "codemirror_mode": {
    "name": "ipython",
    "version": 2
   },
   "file_extension": ".py",
   "mimetype": "text/x-python",
   "name": "python",
   "nbconvert_exporter": "python",
   "pygments_lexer": "ipython2",
   "version": "2.7.6"
  }
 },
 "nbformat": 4,
 "nbformat_minor": 5
}
